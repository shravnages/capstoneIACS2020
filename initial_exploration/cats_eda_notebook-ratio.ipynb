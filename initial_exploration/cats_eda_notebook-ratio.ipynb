{
 "cells": [
  {
   "cell_type": "markdown",
   "metadata": {},
   "source": [
    "# Initial Exploration"
   ]
  },
  {
   "cell_type": "markdown",
   "metadata": {},
   "source": [
    "In this notebook, we do some preliminary exploration using some out-of-the-box tools in OpenCV based on our readings using the tried-and-tested Haar featured-based computer vision methods. Our goals were to see how it would fare on the provided data set, and also to  familiarize ourselves with OpenCV and image processing.\n",
    "\n",
    "Read more about the method here:\n",
    "\n",
    "https://opencv-python-tutroals.readthedocs.io/en/latest/py_tutorials/py_objdetect/py_face_detection/py_face_detection.html"
   ]
  },
  {
   "cell_type": "code",
   "execution_count": 2,
   "metadata": {},
   "outputs": [],
   "source": [
    "import numpy as np\n",
    "import cv2\n",
    "import pylab\n",
    "import imageio\n",
    "\n",
    "import matplotlib.pyplot as plt\n",
    "import matplotlib.image as mpimg"
   ]
  },
  {
   "cell_type": "code",
   "execution_count": 3,
   "metadata": {},
   "outputs": [],
   "source": [
    "cat_cascade = cv2.CascadeClassifier('haarcascade_frontalcatface.xml')\n",
    "cat_ext_cascade = cv2.CascadeClassifier('haarcascade_frontalcatface_extended.xml')\n",
    "eye_cascade = cv2.CascadeClassifier('haarcascade_eye.xml')"
   ]
  },
  {
   "cell_type": "code",
   "execution_count": 4,
   "metadata": {},
   "outputs": [],
   "source": [
    "# Citation: This code uses the following tutorial as a base and builds on top of it.\n",
    "# https://blogs.oracle.com/meena/cat-face-detection-using-opencv \n",
    "\n",
    "SF = 1.05\n",
    "N = 6\n",
    "GREEN = (0, 255, 0)\n",
    "RED = (255, 0, 0)\n",
    "BLUE = (0, 0, 255)\n",
    "\n",
    "def detect_cat(img):\n",
    "    gray = cv2.cvtColor(img, cv2.COLOR_BGR2GRAY)\n",
    "    \n",
    "    # This function returns tuple rectangle starting coordinates x,y, width, height\n",
    "    cats = cat_cascade.detectMultiScale(gray, scaleFactor=SF, minNeighbors=N)\n",
    "    cats_ext = cat_ext_cascade.detectMultiScale(gray, scaleFactor=SF, minNeighbors=N)\n",
    "    eyes = eye_cascade.detectMultiScale(gray, scaleFactor=SF, minNeighbors = N)\n",
    "    return (img, cats, cats_ext, eyes)\n",
    "\n",
    "def save_image(img, cats, cats_ext, eyes, filename):\n",
    "    for (x,y,w,h) in cats:\n",
    "        img = cv2.rectangle(img, (x, y), (x + w, y + h), RED, 2)\n",
    "\n",
    "    for (x,y,w,h) in cats_ext:\n",
    "        img = cv2.rectangle(img, (x, y), (x + w, y + h), GREEN, 2)\n",
    "\n",
    "    for (x, y, w, h) in eyes:\n",
    "        img = cv2.rectangle(img, (x, y), (x + w, y + h), BLUE, 2)\n",
    "\n",
    "    cv2.imwrite(f\"{filename}.jpg\", img)"
   ]
  },
  {
   "cell_type": "code",
   "execution_count": 5,
   "metadata": {},
   "outputs": [],
   "source": [
    "def process_video(filename, sample_rate=30):\n",
    "    \"\"\"\n",
    "    A function that takes in a filename for a video\n",
    "    determines if there is a cat present.\n",
    "    \n",
    "    You can pass in a sample rate. It is set\n",
    "    by default to 10, so that only every 10th\n",
    "    frame will get parsed. \n",
    "    \"\"\"\n",
    "    capture = cv2.VideoCapture(filename)    \n",
    "    frame_count = 0\n",
    "    cat_detected = 0\n",
    "    eyes_detected = []\n",
    "    boxes = []\n",
    "    eye_boxes = []\n",
    "    \n",
    "    \n",
    "    while capture.isOpened():\n",
    "        playing, frame = capture.read()\n",
    "        \n",
    "        if playing and frame_count % sample_rate == 0:\n",
    "            img, cats, cats_ext, eyes = detect_cat(frame)\n",
    "            \"\"\"\n",
    "            We'll ignore cat for now. I'm not 100% sure on this,\n",
    "            but I think the cat_ext seems to do a better job on\n",
    "            detecting a good cat. \n",
    "            \"\"\"\n",
    "            if len(cats_ext) > 0:\n",
    "                print(frame_count)\n",
    "                print(\"Cat detected ^^\")\n",
    "                cat_detected += 1\n",
    "                boxes.append((cats_ext, frame))\n",
    "                save_image(img, cats, cats_ext, eyes, f\"test_output/cat_detected_{frame_count}\")\n",
    "\n",
    "            if len(eyes) > 0:\n",
    "                eyes_detected.append(eyes.shape[0])\n",
    "                eye_boxes.append((eyes, frame))\n",
    "            \n",
    "        if not playing:\n",
    "            break\n",
    "            \n",
    "        if frame_count > 500:\n",
    "            break\n",
    "\n",
    "        frame_count += 1\n",
    "\n",
    "    capture.release()\n",
    "    return frame_count, cat_detected, eyes_detected, boxes, eye_boxes"
   ]
  },
  {
   "cell_type": "code",
   "execution_count": 6,
   "metadata": {},
   "outputs": [
    {
     "name": "stdout",
     "output_type": "stream",
     "text": [
      "0\n",
      "Cat detected ^^\n",
      "30\n",
      "Cat detected ^^\n",
      "210\n",
      "Cat detected ^^\n"
     ]
    },
    {
     "ename": "ValueError",
     "evalue": "too many values to unpack (expected 4)",
     "output_type": "error",
     "traceback": [
      "\u001b[0;31m---------------------------------------------------------------------------\u001b[0m",
      "\u001b[0;31mValueError\u001b[0m                                Traceback (most recent call last)",
      "\u001b[0;32m<ipython-input-6-9733365eba8f>\u001b[0m in \u001b[0;36m<module>\u001b[0;34m\u001b[0m\n\u001b[0;32m----> 1\u001b[0;31m \u001b[0mframe_count\u001b[0m\u001b[0;34m,\u001b[0m \u001b[0mcat_detected\u001b[0m\u001b[0;34m,\u001b[0m \u001b[0meyes_detected\u001b[0m\u001b[0;34m,\u001b[0m \u001b[0mboxes\u001b[0m \u001b[0;34m=\u001b[0m \u001b[0mprocess_video\u001b[0m\u001b[0;34m(\u001b[0m\u001b[0;34m\"videos/MVI_3414.MP4\"\u001b[0m\u001b[0;34m)\u001b[0m\u001b[0;34m\u001b[0m\u001b[0;34m\u001b[0m\u001b[0m\n\u001b[0m",
      "\u001b[0;31mValueError\u001b[0m: too many values to unpack (expected 4)"
     ]
    }
   ],
   "source": [
    "frame_count, cat_detected, eyes_detected, boxes = process_video(\"videos/MVI_3414.MP4\")"
   ]
  },
  {
   "cell_type": "markdown",
   "metadata": {},
   "source": [
    "Here are some cats that were detected in the video, and the resulting frames:"
   ]
  },
  {
   "cell_type": "code",
   "execution_count": null,
   "metadata": {},
   "outputs": [],
   "source": [
    "cat1 =  mpimg.imread(\"test_output/cat_detected_0.jpg\")\n",
    "plt.imshow(cat1)"
   ]
  },
  {
   "cell_type": "code",
   "execution_count": null,
   "metadata": {},
   "outputs": [],
   "source": [
    "cat1 =  mpimg.imread(\"test_output/cat_detected_230.jpg\")\n",
    "plt.imshow(cat1)"
   ]
  },
  {
   "cell_type": "code",
   "execution_count": null,
   "metadata": {},
   "outputs": [],
   "source": [
    "total_frames_sampled = frame_count / 10\n",
    "print(f\"Of total frames sampled, a cat was detected {cat_detected / total_frames_sampled * 100}% of the time.\")\n",
    "print(f\"Of total frames sampled, eyes were detected {len(eyes_detected) / total_frames_sampled * 100}% of the time.\")"
   ]
  },
  {
   "cell_type": "markdown",
   "metadata": {},
   "source": [
    "But we can also see that the eye detection is probably quite a bit more noisier and prone to error."
   ]
  },
  {
   "cell_type": "code",
   "execution_count": null,
   "metadata": {},
   "outputs": [],
   "source": [
    "plt.hist(eyes_detected)\n",
    "plt.xlabel(\"Number of eyes detected\")\n",
    "plt.ylabel(\"Number of frames\")\n",
    "plt.title(\"Frequency Dist. of Eyes detected in video sampling\")\n",
    "plt.show()"
   ]
  },
  {
   "cell_type": "markdown",
   "metadata": {},
   "source": [
    "Below are some sample outputs of images where more than two eyes were detected. We note that it picks up on spots on the cats fur, random items in the background, etc. This indicates that we should use eye detection cautiously; if we include it as a heuristic, we'd have to go to some lengths to ensure that what we are picking up on are indeed eyes."
   ]
  },
  {
   "cell_type": "code",
   "execution_count": null,
   "metadata": {},
   "outputs": [],
   "source": [
    "extra_eyes1 = mpimg.imread(\"test_output/extra_eyes_200.jpg\")\n",
    "plt.imshow(extra_eyes1)"
   ]
  },
  {
   "cell_type": "code",
   "execution_count": null,
   "metadata": {},
   "outputs": [],
   "source": [
    "extra_eyes2 =  mpimg.imread(\"test_output/extra_eyes_280.jpg\")\n",
    "plt.imshow(extra_eyes2)"
   ]
  },
  {
   "cell_type": "code",
   "execution_count": null,
   "metadata": {},
   "outputs": [],
   "source": [
    "def average_rat(boxes):\n",
    "    boxes_cleaned = np.array([((box[0][2], box[0][3]), (im.shape[0], im.shape[1])) for (box, im) in boxes])\n",
    "    def find_ratio(box_frame):\n",
    "        box = box_frame[0]\n",
    "        frame = box_frame[1]\n",
    "        box_area = box[0]*box[1]\n",
    "        frame_area = frame[0]*frame[1]\n",
    "        return box_area/frame_area\n",
    "    ratio_cats_heads = np.array([find_ratio(box_frame) for box_frame in boxes_cleaned])\n",
    "    return np.average(ratio_cats_heads)"
   ]
  },
  {
   "cell_type": "code",
   "execution_count": null,
   "metadata": {},
   "outputs": [],
   "source": [
    "def find_rat_from_video(video):\n",
    "    frame_count, cat_detected, eyes_detected, boxes = process_video(video)\n",
    "    return average_rat(boxes)"
   ]
  },
  {
   "cell_type": "code",
   "execution_count": null,
   "metadata": {},
   "outputs": [],
   "source": [
    "find_rat_from_video(\"videos/MVI_3423.MP4\")"
   ]
  },
  {
   "cell_type": "code",
   "execution_count": null,
   "metadata": {},
   "outputs": [],
   "source": [
    "find_rat_from_video(\"videos/MVI_3427.MP4\")"
   ]
  },
  {
   "cell_type": "code",
   "execution_count": null,
   "metadata": {},
   "outputs": [],
   "source": [
    "def find_eye_rat_from_video(video):\n",
    "    frame_count, cat_detected, eyes_detected, boxes, eye_boxes = process_video(video)\n",
    "    eyes = np.array([eye for (eye, frame) in eye_boxes]) \n",
    "    eye_dims = np.array([np.array([e[2]*e[3] for e in eye]) for eye in eyes])\n",
    "    top_two_eyes = np.array([eye[np.argsort(eye)[-2:]] for eye in eye_dims])\n",
    "    ratios = np.array([eye[1]/eye[0] for eye in top_two_eyes])\n",
    "    eye_ints = np.array([int(rat) for rat in ratios])\n",
    "    eye_ints\n",
    "    plt.hist(eye_ints)\n",
    "    plt.xlabel(\"Ratio of Eye Sizes\")\n",
    "    plt.ylabel(\"Number of frames\")\n",
    "    plt.title(\"Frequency Dist. of Eye Ratios in video sampling\")\n",
    "    plt.show()\n",
    "    return ratios"
   ]
  },
  {
   "cell_type": "code",
   "execution_count": 42,
   "metadata": {},
   "outputs": [
    {
     "name": "stdout",
     "output_type": "stream",
     "text": [
      "0\n",
      "Cat detected ^^\n",
      "30\n",
      "Cat detected ^^\n",
      "60\n",
      "Cat detected ^^\n",
      "90\n",
      "Cat detected ^^\n",
      "120\n",
      "Cat detected ^^\n",
      "150\n",
      "Cat detected ^^\n",
      "180\n",
      "Cat detected ^^\n",
      "210\n",
      "Cat detected ^^\n",
      "240\n",
      "Cat detected ^^\n",
      "270\n",
      "Cat detected ^^\n",
      "300\n",
      "Cat detected ^^\n",
      "330\n",
      "Cat detected ^^\n",
      "360\n",
      "Cat detected ^^\n",
      "390\n",
      "Cat detected ^^\n",
      "420\n",
      "Cat detected ^^\n",
      "450\n",
      "Cat detected ^^\n",
      "480\n",
      "Cat detected ^^\n"
     ]
    },
    {
     "data": {
      "image/png": "[encoded data removed]",
      "text/plain": [
       "<Figure size 432x288 with 1 Axes>"
      ]
     },
     "metadata": {
      "needs_background": "light"
     },
     "output_type": "display_data"
    }
   ],
   "source": [
    "eye_rats = find_eye_rat_from_video(\"videos/MVI_3423.MP4\")"
   ]
  },
  {
   "cell_type": "code",
   "execution_count": 43,
   "metadata": {},
   "outputs": [
    {
     "name": "stdout",
     "output_type": "stream",
     "text": [
      "0\n",
      "Cat detected ^^\n",
      "30\n",
      "Cat detected ^^\n",
      "60\n",
      "Cat detected ^^\n",
      "90\n",
      "Cat detected ^^\n",
      "120\n",
      "Cat detected ^^\n",
      "150\n",
      "Cat detected ^^\n",
      "180\n",
      "Cat detected ^^\n",
      "210\n",
      "Cat detected ^^\n",
      "240\n",
      "Cat detected ^^\n",
      "270\n",
      "Cat detected ^^\n",
      "330\n",
      "Cat detected ^^\n",
      "360\n",
      "Cat detected ^^\n",
      "390\n",
      "Cat detected ^^\n"
     ]
    },
    {
     "data": {
      "image/png": "[encoded data removed]",
      "text/plain": [
       "<Figure size 432x288 with 1 Axes>"
      ]
     },
     "metadata": {
      "needs_background": "light"
     },
     "output_type": "display_data"
    }
   ],
   "source": [
    "eye_rats_2 = find_eye_rat_from_video(\"videos/MVI_3427.MP4\")"
   ]
  },
  {
   "cell_type": "code",
   "execution_count": 39,
   "metadata": {},
   "outputs": [
    {
     "data": {
      "image/png": "[encoded data removed]",
      "text/plain": [
       "<Figure size 432x288 with 1 Axes>"
      ]
     },
     "metadata": {
      "needs_background": "light"
     },
     "output_type": "display_data"
    }
   ],
   "source": [
    "eye_ints = np.array([int(rat) for rat in eye_rats])\n",
    "eye_ints\n",
    "plt.hist(eye_ints)\n",
    "plt.xlabel(\"Ratio of Eye Sizes\")\n",
    "plt.ylabel(\"Number of frames\")\n",
    "plt.title(\"Frequency Dist. of Eye Ratios in video sampling\")\n",
    "plt.show()"
   ]
  },
  {
   "cell_type": "markdown",
   "metadata": {},
   "source": [
    "### FURTHER EXPERIMENTATION"
   ]
  },
  {
   "cell_type": "code",
   "execution_count": null,
   "metadata": {},
   "outputs": [],
   "source": [
    "# I've noticed that sometimes, cat_cascade detects a cat whereas cat_extension doesn't.\n",
    "# I haven't looked into this too much, so I wanted to modify the function\n",
    "# so that the images where this was the case gets outputted.\n",
    "# It looks like cat_cascade is a bit oversensitive,\n",
    "# As these are rather shoddy images.\n",
    "\n",
    "def process_video(filename, sample_rate=10):\n",
    "    \"\"\"\n",
    "    A function that takes in a filename for a video\n",
    "    determines if there is a cat present.\n",
    "    \n",
    "    You can pass in a sample rate. It is set\n",
    "    by default to 10, so that only every 10th\n",
    "    frame will get parsed. \n",
    "    \"\"\"\n",
    "    capture = cv2.VideoCapture(filename)    \n",
    "    frame_count = 0\n",
    "    \n",
    "    while capture.isOpened():\n",
    "        playing, frame = capture.read()\n",
    "        \n",
    "        if playing and frame_count % sample_rate == 0:\n",
    "            img, cat, cat_ext, eyes = detect_cat(frame)\n",
    "            print(cat, cat_ext)\n",
    "            if len(cat) > 0 and len(cat_ext) == 0:\n",
    "                print(\"cat_cascade picked up on a cat face, whereas cat_ext_cascade didn't. Saving image.\")\n",
    "                save_image(img, cat, cat_ext, eyes, f\"test_output/cat_non_ext_{frame_count}\")\n",
    "        \n",
    "        if not playing:\n",
    "            break\n",
    "\n",
    "        frame_count += 1\n",
    "\n",
    "    capture.release()\n",
    "\n",
    "process_video(\"videos/MVI_3414.MP4\")"
   ]
  },
  {
   "cell_type": "markdown",
   "metadata": {},
   "source": [
    "You can also look at the above output for an idea of what the data returned by the detectMultiScale looks like. \n",
    "\n",
    "Below are the images that vanilla cat detector picked up on, but the extension did not."
   ]
  },
  {
   "cell_type": "code",
   "execution_count": null,
   "metadata": {},
   "outputs": [],
   "source": [
    "non_ext1 =  mpimg.imread(\"test_output/cat_non_ext_140.jpg\")\n",
    "plt.imshow(non_ext1)"
   ]
  },
  {
   "cell_type": "code",
   "execution_count": null,
   "metadata": {},
   "outputs": [],
   "source": [
    "non_ext2 =  mpimg.imread(\"test_output/cat_non_ext_200.jpg\")\n",
    "plt.imshow(non_ext1)"
   ]
  },
  {
   "cell_type": "code",
   "execution_count": null,
   "metadata": {},
   "outputs": [],
   "source": [
    "non_ext3 =  mpimg.imread(\"test_output/cat_non_ext_270.jpg\")\n",
    "plt.imshow(non_ext3)"
   ]
  },
  {
   "cell_type": "code",
   "execution_count": 23,
   "metadata": {},
   "outputs": [],
   "source": [
    "def get_data_and_frames_from_video(filenames, sample_rate=30):\n",
    "    all_x = []\n",
    "    all_y = []\n",
    "    \n",
    "    for filename in filenames:\n",
    "        capture = cv2.VideoCapture(filename)    \n",
    "        frame_count = 0\n",
    "        cat_detected = 0\n",
    "        eyes_detected = []\n",
    "        boxes = []\n",
    "        eye_boxes = []\n",
    "\n",
    "\n",
    "        while capture.isOpened():\n",
    "            playing, frame = capture.read()\n",
    "            \n",
    "            eye_rat = 0\n",
    "            head_rat = 0\n",
    "\n",
    "            if playing and frame_count % sample_rate == 0:\n",
    "                img, cats, cats_ext, eyes = detect_cat(frame)\n",
    "                if len(cats_ext) > 0:\n",
    "                    print(frame_count)\n",
    "                    print(\"Cat detected ^^\")\n",
    "                    cat_detected += 1\n",
    "                    box_cleaned = [(cats_ext[0][2], cats_ext[0][3]), (frame.shape[0], frame.shape[1])]\n",
    "                    box = box_cleaned[0]\n",
    "                    frame_size = box_cleaned[1]\n",
    "                    box_area = box[0]*box[1]\n",
    "                    frame_area = frame_size[0]*frame_size[1]\n",
    "                    head_rat= box_area/frame_area\n",
    "                    #save_image(img, cats, cats_ext, eyes, f\"test_output/cat_detected_{frame_count}\")\n",
    "\n",
    "                if len(eyes) > 1:\n",
    "                    eyes_detected.append(eyes.shape[0])\n",
    "                    eye_dims = np.array([eye[2]*eye[3] for eye in eyes])\n",
    "                    top_two_eyes = eye_dims[np.argsort(eye_dims)[-2:]]\n",
    "                    eye_rat = top_two_eyes[1]/top_two_eyes[0]\n",
    "\n",
    "            if not playing:\n",
    "                break\n",
    "\n",
    "            if frame_count > 500:\n",
    "                break\n",
    "\n",
    "            frame_count += 1\n",
    "            \n",
    "            if (eye_rat != 0 and head_rat != 0):\n",
    "                all_x.append((eye_rat, head_rat))\n",
    "                all_y.append(frame)\n",
    "\n",
    "        capture.release()\n",
    "    return (all_x, all_y)"
   ]
  },
  {
   "cell_type": "code",
   "execution_count": 25,
   "metadata": {},
   "outputs": [
    {
     "name": "stdout",
     "output_type": "stream",
     "text": [
      "0\n",
      "Cat detected ^^\n",
      "30\n",
      "Cat detected ^^\n",
      "210\n",
      "Cat detected ^^\n",
      "0\n",
      "Cat detected ^^\n",
      "30\n",
      "Cat detected ^^\n",
      "60\n",
      "Cat detected ^^\n",
      "90\n",
      "Cat detected ^^\n",
      "120\n",
      "Cat detected ^^\n",
      "150\n",
      "Cat detected ^^\n",
      "180\n",
      "Cat detected ^^\n",
      "210\n",
      "Cat detected ^^\n",
      "240\n",
      "Cat detected ^^\n",
      "270\n",
      "Cat detected ^^\n",
      "330\n",
      "Cat detected ^^\n",
      "360\n",
      "Cat detected ^^\n",
      "390\n",
      "Cat detected ^^\n",
      "0\n",
      "Cat detected ^^\n",
      "30\n",
      "Cat detected ^^\n",
      "60\n",
      "Cat detected ^^\n",
      "90\n",
      "Cat detected ^^\n",
      "120\n",
      "Cat detected ^^\n",
      "150\n",
      "Cat detected ^^\n",
      "180\n",
      "Cat detected ^^\n",
      "210\n",
      "Cat detected ^^\n",
      "240\n",
      "Cat detected ^^\n",
      "270\n",
      "Cat detected ^^\n",
      "300\n",
      "Cat detected ^^\n",
      "330\n",
      "Cat detected ^^\n",
      "360\n",
      "Cat detected ^^\n",
      "390\n",
      "Cat detected ^^\n",
      "420\n",
      "Cat detected ^^\n",
      "450\n",
      "Cat detected ^^\n",
      "480\n",
      "Cat detected ^^\n",
      "[(1.0714065866420437, 0.011437114197530865), (38.51297577854671, 0.018337673611111112), (1.1168646694214877, 0.04225308641975309), (1.0, 0.050625), (1.1211072664359862, 0.04), (1.0888468809073724, 0.04938271604938271), (1.296094674556213, 0.035941840277777776), (1.0279706790123457, 0.05031298225308642), (1.0915571396747605, 0.04574845679012346), (1.0, 0.039722704475308644), (1.184256055363322, 0.03111304012345679), (1.1310153691106073, 0.03437934027777778), (1.3722448979591837, 0.0375390625), (1.2164792387543253, 0.04168402777777778), (1.2164792387543253, 0.0372704475308642), (1.0287755102040816, 0.038623167438271606), (1.036694214876033, 0.04225308641975309), (1.0733706679652626, 0.039446373456790126), (1.0, 0.04140094521604938), (1.0, 0.04083767361111111), (1.1507438016528926, 0.0425390625), (1.067208524007923, 0.0425390625), (1.1277312240582662, 0.03917100694444445), (3.2278081011203676, 0.04111882716049383), (1.4116263111459662, 0.040278260030864196), (1.1770202919188324, 0.04111882716049383), (1.0720494948703891, 0.04140094521604938), (1.0179368622448979, 0.04055748456790124), (1.10803324099723, 0.04055748456790124), (1.220498866213152, 0.038623167438271606), (1.0822710718002082, 0.03917100694444445), (1.10803324099723, 0.03917100694444445), (2.4998173849525203, 0.039722704475308644)]\n"
     ]
    }
   ],
   "source": [
    "videos = np.array([\"videos/MVI_3414.MP4\", \"videos/MVI_3427.MP4\", \"videos/MVI_3423.MP4\"])\n",
    "(all_x, all_y) = get_data_and_frames_from_video(videos)\n",
    "print(all_x)"
   ]
  },
  {
   "cell_type": "code",
   "execution_count": 26,
   "metadata": {},
   "outputs": [
    {
     "name": "stdout",
     "output_type": "stream",
     "text": [
      "[False False False  True False  True False  True  True  True False False\n",
      " False False False  True  True  True  True  True False  True False False\n",
      " False False  True  True False False  True False False]\n"
     ]
    }
   ],
   "source": [
    "all_y_fixed = np.array([np.abs(eye-1) < 0.1 and np.abs(head- 0.05) < 0.03 for (eye, head) in all_x])\n",
    "print(all_y_fixed)"
   ]
  },
  {
   "cell_type": "code",
   "execution_count": 27,
   "metadata": {},
   "outputs": [
    {
     "name": "stderr",
     "output_type": "stream",
     "text": [
      "//anaconda3/lib/python3.7/site-packages/sklearn/linear_model/logistic.py:432: FutureWarning: Default solver will be changed to 'lbfgs' in 0.22. Specify a solver to silence this warning.\n",
      "  FutureWarning)\n"
     ]
    }
   ],
   "source": [
    "from sklearn.linear_model import LogisticRegression\n",
    "cat_model = LogisticRegression(random_state=0).fit(all_x, all_y_fixed)"
   ]
  },
  {
   "cell_type": "code",
   "execution_count": 34,
   "metadata": {},
   "outputs": [
    {
     "data": {
      "text/plain": [
       "array([[5.56375429e-01, 4.43624571e-01],\n",
       "       [1.00000000e+00, 3.11494262e-14],\n",
       "       [5.65085330e-01, 4.34914670e-01],\n",
       "       [5.41128061e-01, 4.58871939e-01],\n",
       "       [5.65983030e-01, 4.34016970e-01],\n",
       "       [5.59278080e-01, 4.40721920e-01],\n",
       "       [6.01100589e-01, 3.98899411e-01],\n",
       "       [5.46854785e-01, 4.53145215e-01],\n",
       "       [5.59890538e-01, 4.40109462e-01],\n",
       "       [5.41314478e-01, 4.58685522e-01],\n",
       "       [5.78876834e-01, 4.21123166e-01],\n",
       "       [5.68083873e-01, 4.31916127e-01],\n",
       "       [6.16031085e-01, 3.83968915e-01],\n",
       "       [5.85163636e-01, 4.14836364e-01],\n",
       "       [5.85237413e-01, 4.14762587e-01],\n",
       "       [5.47218700e-01, 4.52781300e-01],\n",
       "       [5.48774164e-01, 4.51225836e-01],\n",
       "       [5.56299097e-01, 4.43700903e-01],\n",
       "       [5.41285782e-01, 4.58714218e-01],\n",
       "       [5.41295413e-01, 4.58704587e-01],\n",
       "       [5.71933370e-01, 4.28066630e-01],\n",
       "       [5.54991935e-01, 4.45008065e-01],\n",
       "       [5.67338290e-01, 4.32661710e-01],\n",
       "       [8.81066703e-01, 1.18933297e-01],\n",
       "       [6.23638502e-01, 3.76361498e-01],\n",
       "       [5.77253501e-01, 4.22746499e-01],\n",
       "       [5.55996950e-01, 4.44003050e-01],\n",
       "       [5.44970312e-01, 4.55029688e-01],\n",
       "       [5.63323482e-01, 4.36676518e-01],\n",
       "       [5.86019142e-01, 4.13980858e-01],\n",
       "       [5.58114554e-01, 4.41885446e-01],\n",
       "       [5.63346968e-01, 4.36653032e-01],\n",
       "       [8.02560001e-01, 1.97439999e-01]])"
      ]
     },
     "execution_count": 34,
     "metadata": {},
     "output_type": "execute_result"
    }
   ],
   "source": [
    "cat_model.predict_proba(all_x)"
   ]
  },
  {
   "cell_type": "code",
   "execution_count": null,
   "metadata": {},
   "outputs": [],
   "source": []
  }
 ],
 "metadata": {
  "kernelspec": {
   "display_name": "Python 3",
   "language": "python",
   "name": "python3"
  },
  "language_info": {
   "codemirror_mode": {
    "name": "ipython",
    "version": 3
   },
   "file_extension": ".py",
   "mimetype": "text/x-python",
   "name": "python",
   "nbconvert_exporter": "python",
   "pygments_lexer": "ipython3",
   "version": "3.7.3"
  }
 },
 "nbformat": 4,
 "nbformat_minor": 2
}
